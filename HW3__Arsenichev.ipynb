{
  "nbformat": 4,
  "nbformat_minor": 0,
  "metadata": {
    "colab": {
      "provenance": []
    },
    "kernelspec": {
      "name": "python3",
      "display_name": "Python 3"
    },
    "language_info": {
      "name": "python"
    }
  },
  "cells": [
    {
      "cell_type": "code",
      "execution_count": 1,
      "metadata": {
        "id": "MXXTuy_o0sjk",
        "colab": {
          "base_uri": "https://localhost:8080/"
        },
        "outputId": "733ad64b-8fd1-4849-c283-699cf120be3a"
      },
      "outputs": [
        {
          "output_type": "stream",
          "name": "stdout",
          "text": [
            "  Preparing metadata (setup.py) ... \u001b[?25l\u001b[?25hdone\n",
            "\u001b[2K   \u001b[90m━━━━━━━━━━━━━━━━━━━━━━━━━━━━━━━━━━━━━━━━\u001b[0m \u001b[32m1.4/1.4 MB\u001b[0m \u001b[31m18.0 MB/s\u001b[0m eta \u001b[36m0:00:00\u001b[0m\n",
            "\u001b[2K   \u001b[90m━━━━━━━━━━━━━━━━━━━━━━━━━━━━━━━━━━━━━━━━\u001b[0m \u001b[32m953.8/953.8 kB\u001b[0m \u001b[31m39.6 MB/s\u001b[0m eta \u001b[36m0:00:00\u001b[0m\n",
            "\u001b[2K   \u001b[90m━━━━━━━━━━━━━━━━━━━━━━━━━━━━━━━━━━━━━━━━\u001b[0m \u001b[32m840.2/840.2 kB\u001b[0m \u001b[31m35.4 MB/s\u001b[0m eta \u001b[36m0:00:00\u001b[0m\n",
            "\u001b[2K   \u001b[90m━━━━━━━━━━━━━━━━━━━━━━━━━━━━━━━━━━━━━━━━\u001b[0m \u001b[32m178.7/178.7 kB\u001b[0m \u001b[31m10.5 MB/s\u001b[0m eta \u001b[36m0:00:00\u001b[0m\n",
            "\u001b[?25h  Building wheel for Chessnut (setup.py) ... \u001b[?25l\u001b[?25hdone\n"
          ]
        }
      ],
      "source": [
        "!pip install -q -U kaggle_environments"
      ]
    },
    {
      "cell_type": "code",
      "source": [
        "import numpy as np\n",
        "import pandas as pd\n",
        "import random\n",
        "\n",
        "import matplotlib.pyplot as plt\n",
        "import seaborn as sns\n",
        "\n",
        "from kaggle_environments import make, evaluate"
      ],
      "metadata": {
        "id": "yz23vWHD0wcj",
        "colab": {
          "base_uri": "https://localhost:8080/"
        },
        "outputId": "dcd3ea5e-09b0-4603-f1e7-7ca0cbb38613"
      },
      "execution_count": 2,
      "outputs": [
        {
          "output_type": "stream",
          "name": "stderr",
          "text": [
            "/usr/local/lib/python3.10/dist-packages/pygame/pkgdata.py:25: DeprecationWarning: pkg_resources is deprecated as an API. See https://setuptools.pypa.io/en/latest/pkg_resources.html\n",
            "  from pkg_resources import resource_stream, resource_exists\n",
            "/usr/local/lib/python3.10/dist-packages/pkg_resources/__init__.py:3154: DeprecationWarning: Deprecated call to `pkg_resources.declare_namespace('google')`.\n",
            "Implementing implicit namespace packages (as specified in PEP 420) is preferred to `pkg_resources.declare_namespace`. See https://setuptools.pypa.io/en/latest/references/keywords.html#keyword-namespace-packages\n",
            "  declare_namespace(pkg)\n",
            "/usr/local/lib/python3.10/dist-packages/pkg_resources/__init__.py:3154: DeprecationWarning: Deprecated call to `pkg_resources.declare_namespace('google.cloud')`.\n",
            "Implementing implicit namespace packages (as specified in PEP 420) is preferred to `pkg_resources.declare_namespace`. See https://setuptools.pypa.io/en/latest/references/keywords.html#keyword-namespace-packages\n",
            "  declare_namespace(pkg)\n",
            "/usr/local/lib/python3.10/dist-packages/pkg_resources/__init__.py:3154: DeprecationWarning: Deprecated call to `pkg_resources.declare_namespace('sphinxcontrib')`.\n",
            "Implementing implicit namespace packages (as specified in PEP 420) is preferred to `pkg_resources.declare_namespace`. See https://setuptools.pypa.io/en/latest/references/keywords.html#keyword-namespace-packages\n",
            "  declare_namespace(pkg)\n"
          ]
        }
      ]
    },
    {
      "cell_type": "markdown",
      "source": [
        "# Агенты"
      ],
      "metadata": {
        "id": "HU1liNVxSPNJ"
      }
    },
    {
      "cell_type": "markdown",
      "source": [
        "## 1. Агент, играющий только \"камень\""
      ],
      "metadata": {
        "id": "QU52KzXlRni6"
      }
    },
    {
      "cell_type": "code",
      "source": [
        "%%writefile rock_agent.py\n",
        "\n",
        "def rock_only(observation, configuration):\n",
        "    return 0"
      ],
      "metadata": {
        "colab": {
          "base_uri": "https://localhost:8080/"
        },
        "id": "6YCPfsD8SNk7",
        "outputId": "4ecef26d-7555-414d-c797-eedb3219a7ae"
      },
      "execution_count": 3,
      "outputs": [
        {
          "output_type": "stream",
          "name": "stdout",
          "text": [
            "Writing rock_agent.py\n"
          ]
        },
        {
          "output_type": "stream",
          "name": "stderr",
          "text": [
            "/usr/local/lib/python3.10/dist-packages/ipykernel/ipkernel.py:283: DeprecationWarning: `should_run_async` will not call `transform_cell` automatically in the future. Please pass the result to `transformed_cell` argument and any exception that happen during thetransform in `preprocessing_exc_tuple` in IPython 7.17 and above.\n",
            "  and should_run_async(code)\n"
          ]
        }
      ]
    },
    {
      "cell_type": "markdown",
      "source": [
        "## 2. Агент, играющий только \"бумагу\""
      ],
      "metadata": {
        "id": "xHCEzf7Qqvvq"
      }
    },
    {
      "cell_type": "code",
      "source": [
        "%%writefile paper_agent.py\n",
        "\n",
        "def paper_only(observation, configuration):\n",
        "    return 1"
      ],
      "metadata": {
        "colab": {
          "base_uri": "https://localhost:8080/"
        },
        "id": "y2bYLUZ3SktT",
        "outputId": "f9436f00-0856-47ca-a3ce-6235d8674485"
      },
      "execution_count": 4,
      "outputs": [
        {
          "output_type": "stream",
          "name": "stdout",
          "text": [
            "Writing paper_agent.py\n"
          ]
        }
      ]
    },
    {
      "cell_type": "markdown",
      "source": [
        "## 3. Агент, играющий только \"ножницы\""
      ],
      "metadata": {
        "id": "kUza-fZIq5p_"
      }
    },
    {
      "cell_type": "code",
      "source": [
        "%%writefile scissors_agent.py\n",
        "\n",
        "def scissors_only(observation, configuration):\n",
        "    return 2"
      ],
      "metadata": {
        "colab": {
          "base_uri": "https://localhost:8080/"
        },
        "id": "rRVkj09-Spar",
        "outputId": "b878668d-fe23-4562-f4fb-c5d07d734178"
      },
      "execution_count": 5,
      "outputs": [
        {
          "output_type": "stream",
          "name": "stdout",
          "text": [
            "Writing scissors_agent.py\n"
          ]
        }
      ]
    },
    {
      "cell_type": "markdown",
      "source": [
        "## 4. Агент, играющий всегда случайный выбор"
      ],
      "metadata": {
        "id": "r79XPa6lr7Na"
      }
    },
    {
      "cell_type": "code",
      "source": [
        "%%writefile random_agent.py\n",
        "import random\n",
        "\n",
        "def random_agent(observation, configuration):\n",
        "    return random.randrange(0, configuration.signs)"
      ],
      "metadata": {
        "colab": {
          "base_uri": "https://localhost:8080/"
        },
        "id": "ZN7aV1WpKxbD",
        "outputId": "32458639-c0c7-45cc-cb63-11d75e768e9f"
      },
      "execution_count": 6,
      "outputs": [
        {
          "output_type": "stream",
          "name": "stdout",
          "text": [
            "Writing random_agent.py\n"
          ]
        }
      ]
    },
    {
      "cell_type": "markdown",
      "source": [
        "## 5. Агент, играющий выбор соперника в последнем раунде"
      ],
      "metadata": {
        "id": "WGWCW83qs05H"
      }
    },
    {
      "cell_type": "code",
      "source": [
        "%%writefile copy_agent.py\n",
        "import random\n",
        "\n",
        "def copier(observation, configuration):\n",
        "    # делаем выбор, бьющий выбор соперника на предыдущем раунде\n",
        "    if observation.step > 0:\n",
        "        return observation.lastOpponentAction\n",
        "    # если раунд первый, делаем случайный выбор\n",
        "    else:\n",
        "        return random.randrange(0, configuration.signs)"
      ],
      "metadata": {
        "colab": {
          "base_uri": "https://localhost:8080/"
        },
        "id": "MfghYPWDHLfC",
        "outputId": "7c027979-84cf-4b42-f000-f3e29962eceb"
      },
      "execution_count": 7,
      "outputs": [
        {
          "output_type": "stream",
          "name": "stdout",
          "text": [
            "Writing copy_agent.py\n"
          ]
        }
      ]
    },
    {
      "cell_type": "markdown",
      "source": [
        "## 6. Агент, меняющий вариант на выигрышный по выбору соперника в последнем раунде, если был проигрыш или ничья. <br>То есть если исход 0-0, то следующий будет 1-?."
      ],
      "metadata": {
        "id": "doYiEQWKvMHB"
      }
    },
    {
      "cell_type": "code",
      "source": [
        "%%writefile reactionary.py\n",
        "\n",
        "import random\n",
        "\n",
        "def count_score(agent, opponent):\n",
        "    # функция, которая оценивает исход раунда и возвращает, 1-при выигрыше, 0-при ничье, (-1)-при проигрыше\n",
        "    if not (agent + opponent) % 2:\n",
        "        sub = opponent - agent # исходы 00, 11, 22, 02, 20\n",
        "    else:\n",
        "        sub = agent - opponent # исходы 01, 10, 12, 21\n",
        "    if not sub:\n",
        "        return 0\n",
        "    elif sub > 0:\n",
        "        return 1\n",
        "    else:\n",
        "        return -1\n",
        "\n",
        "# переменная для хранения последнего выбора агента\n",
        "last_react_action = None\n",
        "\n",
        "\n",
        "def reactionary(observation, configuration):\n",
        "    global last_react_action\n",
        "    # если первый раунд, то случайны выбор\n",
        "    if observation.step == 0:\n",
        "        last_react_action = random.randrange(0, configuration.signs)\n",
        "    # если проигрыш или ничья, то меняем выбор на бьющий исход соперника\n",
        "    elif count_score(last_react_action, observation.lastOpponentAction) < 1:\n",
        "        last_react_action = (observation.lastOpponentAction + 1) % configuration.signs\n",
        "\n",
        "    return last_react_action"
      ],
      "metadata": {
        "colab": {
          "base_uri": "https://localhost:8080/"
        },
        "id": "ocsBz9YcKwQA",
        "outputId": "2a581481-4c3c-493c-c218-233fc467559d"
      },
      "execution_count": 8,
      "outputs": [
        {
          "output_type": "stream",
          "name": "stdout",
          "text": [
            "Writing reactionary.py\n"
          ]
        }
      ]
    },
    {
      "cell_type": "markdown",
      "source": [
        "## 7. Агент, меняющий свой выбор на следующий после предположительного следующего по порядку выбора соперника, если в текущем раунде был выигрыш. <br>То есть если исход 0-0, то следующий будет 1-?, а если исход 1-0, то будет 0-?. На случай, если соперник захочет сыграть бьющий в предыдущем раунде выбор."
      ],
      "metadata": {
        "id": "6_Lc79iOva-m"
      }
    },
    {
      "cell_type": "code",
      "source": [
        "%%writefile future_reactionary.py\n",
        "\n",
        "import random\n",
        "\n",
        "def count_score(agent, opponent):\n",
        "    # функция, которая оценивает исход раунда и возвращает, 1-при выигрыше, 0-при ничьи, (-1)-при проигрыше\n",
        "    if not (agent + opponent) % 2:\n",
        "        sub = opponent - agent # исходы 00, 11, 22, 02, 20\n",
        "    else:\n",
        "        sub = agent - opponent # исходы 01, 10, 12, 21\n",
        "    if not sub:\n",
        "        return 0\n",
        "    elif sub > 0:\n",
        "        return 1\n",
        "    else:\n",
        "        return -1\n",
        "\n",
        "# переменная для хранения последнего выбора агента\n",
        "last_counter_action = None\n",
        "\n",
        "\n",
        "def future_reactionary(observation, configuration):\n",
        "    global last_counter_action\n",
        "    # если первый раунд, то случайны выбор\n",
        "    if observation.step == 0:\n",
        "        last_counter_action = random.randrange(0, configuration.signs)\n",
        "    # если выигрыш, то меняем выбор на 2 вперед, на случай, если соперник выберет следующий исход (пример 1. 0-0; 2. 2-1)\n",
        "    elif count_score(last_counter_action, observation.lastOpponentAction) == 1:\n",
        "        last_counter_action = (last_counter_action + 2) % configuration.signs\n",
        "    # в остальных случаях просто меняем выбор на следующий бьющий исход\n",
        "    elif count_score(last_counter_action, observation.lastOpponentAction):\n",
        "        last_counter_action = (observation.lastOpponentAction + 1) % configuration.signs\n",
        "\n",
        "    return last_counter_action"
      ],
      "metadata": {
        "colab": {
          "base_uri": "https://localhost:8080/"
        },
        "id": "4ptVfjZa7J9w",
        "outputId": "f0f5f0da-6057-4352-d0ae-aa42d08e5211"
      },
      "execution_count": 9,
      "outputs": [
        {
          "output_type": "stream",
          "name": "stdout",
          "text": [
            "Writing future_reactionary.py\n"
          ]
        }
      ]
    },
    {
      "cell_type": "markdown",
      "source": [
        "## 8. Агент, который делает выбор за счет статистичеких данных, полученных из предыдущих раундов."
      ],
      "metadata": {
        "id": "rNur3JmzxiSD"
      }
    },
    {
      "cell_type": "code",
      "source": [
        "%%writefile statistical.py\n",
        "\n",
        "import random\n",
        "\n",
        "# переменная, где храним стат данные по исходам соперника\n",
        "action_stats = {}\n",
        "\n",
        "def statistical(observation, configuration):\n",
        "    global action_stats\n",
        "    # если первый раунд, то случайны выбор\n",
        "    if observation.step == 0:\n",
        "        return random.randrange(0, configuration.signs)\n",
        "    action = observation.lastOpponentAction\n",
        "    # добавляем выбор соперника в общую статистику\n",
        "    if action not in action_stats:\n",
        "        action_stats[action] = 0\n",
        "    action_stats[action] += 1\n",
        "    mode_action = None\n",
        "    mode_action_count = None\n",
        "    # Проходимся по статистике\n",
        "    for k, v in action_stats.items():\n",
        "        # Если встречаем число исходов соперника большее чем было на предыдущей итерации цикла, то фиксируем это\n",
        "        if mode_action_count is None or v > mode_action_count:\n",
        "            mode_action = k\n",
        "            mode_action_count = v\n",
        "\n",
        "    # возвращаем победный вариант, на самымй популярный выбор соперника\n",
        "    return (mode_action + 1) % configuration.signs"
      ],
      "metadata": {
        "colab": {
          "base_uri": "https://localhost:8080/"
        },
        "id": "WzTEd63P7BgT",
        "outputId": "665def07-fc08-4daa-9e3f-b4f535c50192"
      },
      "execution_count": 10,
      "outputs": [
        {
          "output_type": "stream",
          "name": "stdout",
          "text": [
            "Writing statistical.py\n"
          ]
        }
      ]
    },
    {
      "cell_type": "markdown",
      "source": [
        "## 9. Агент, предсказывающий возможный выбор соперника за счет концепции марковских цепей. По последовательности исходов фиксированной длины подсчитывается наиболее вероятный исход соперника в следующем раунде."
      ],
      "metadata": {
        "id": "_kJRJxz4yR9B"
      }
    },
    {
      "cell_type": "code",
      "source": [
        "%%writefile markov_agent.py\n",
        "\n",
        "import numpy as np\n",
        "import collections\n",
        "\n",
        "# Переменные фиксированной последовательности и общей таблицы со статистиками выборов соперника при определенной последовательности\n",
        "action_seq, table = [], collections.defaultdict(lambda: [1, 1, 1])\n",
        "\n",
        "def markov_agent(observation, configuration):\n",
        "    global table, action_seq\n",
        "\n",
        "    # сформируем в первых раундах изначальную последовательность\n",
        "    if len(action_seq) <= 5:\n",
        "        action = np.random.randint(3)\n",
        "        if observation.step > 0:\n",
        "            action_seq.extend([observation.lastOpponentAction, action])\n",
        "        else:\n",
        "            action_seq.append(action)\n",
        "        return action\n",
        "    # создаем ключ к таблице из последовательности последних исходов\n",
        "    key = ''.join([str(a) for a in action_seq[:-1]])\n",
        "    # обновляем статистику в таблице в зависимости от исхода соперника (пример: на последовательности 1020101 соперник сыграл камень, значит меняем в таблице (1, 1, 1) на (2, 1, 1))\n",
        "    table[key][observation.lastOpponentAction] += 1\n",
        "    # обновляем нашу последовательность, сдвигая ее на один исход в раунде (два выбора)\n",
        "    action_seq[:-2] = action_seq[2:]\n",
        "    action_seq[-2] = observation.lastOpponentAction\n",
        "    # формируем ключ для взятия статистики из таблицы\n",
        "    key = ''.join([str(a) for a in action_seq[:-1]])\n",
        "    scores = np.array(table[key])\n",
        "    # формируем вероятность выбора соперника на основе дискретного распределения статистики\n",
        "    next_opponent_action_pred = np.random.choice(3, p=scores/scores.sum()) # в np.random.choice прописываем вероятности\n",
        "    # создаем наш выбор, бьющий предполагаемый выбор соперника\n",
        "    action = (next_opponent_action_pred + 1) % configuration.signs\n",
        "    action_seq[-1] = action\n",
        "    return int(action)"
      ],
      "metadata": {
        "colab": {
          "base_uri": "https://localhost:8080/"
        },
        "id": "i9QC42Gd7JR7",
        "outputId": "1db71441-8123-469d-a3ef-2e493b5dec1f"
      },
      "execution_count": 11,
      "outputs": [
        {
          "output_type": "stream",
          "name": "stdout",
          "text": [
            "Writing markov_agent.py\n"
          ]
        }
      ]
    },
    {
      "cell_type": "markdown",
      "source": [
        "# Прогон и результаты"
      ],
      "metadata": {
        "id": "ExgIpXUVjbjN"
      }
    },
    {
      "cell_type": "code",
      "source": [
        "# Формируем список агентов\n",
        "list_names = [\n",
        "    \"rock_agent.py\",\n",
        "    \"paper_agent.py\",\n",
        "    \"scissors_agent.py\",\n",
        "    \"random_agent.py\",\n",
        "    \"copy_agent.py\",\n",
        "    \"reactionary.py\",\n",
        "    \"future_reactionary.py\",\n",
        "    \"statistical.py\",\n",
        "    \"markov_agent.py\",\n",
        "]\n",
        "\n",
        "# создаем шаблон результаты игр для каждого агента\n",
        "output = {}\n",
        "for agent in list_names:\n",
        "    output[agent] = {\"win\": 0, \"loss\": 0, \"tie\": 0}"
      ],
      "metadata": {
        "id": "oeEHG7lihhAq"
      },
      "execution_count": 47,
      "outputs": []
    },
    {
      "cell_type": "code",
      "source": [
        "# Делаем список игр между агентами\n",
        "list_of_games = []\n",
        "for i in list_names:\n",
        "    for j in list_names:\n",
        "        if i != j:\n",
        "            list_of_games.append([i,j])"
      ],
      "metadata": {
        "id": "gaeNRjYQhgAV"
      },
      "execution_count": 48,
      "outputs": []
    },
    {
      "cell_type": "code",
      "source": [
        "def get_result(agents):\n",
        "    # функция, моделирующая игру и возвращающая названия агентов и результаты игры. Будет 1000 раундов в каждой игре\n",
        "    output = evaluate(\n",
        "                \"rps\",\n",
        "                [agents[0], agents[1]],\n",
        "                configuration={\"episodeSteps\": 1000})\n",
        "    return agents[0], agents[1], output[0]"
      ],
      "metadata": {
        "id": "-wBigwsIic_F"
      },
      "execution_count": 49,
      "outputs": []
    },
    {
      "cell_type": "code",
      "source": [
        "import tqdm\n",
        "results = []\n",
        "# проводим игры и записываем результаты\n",
        "for game in tqdm.tqdm(list_of_games, total = len(list_of_games), desc=\"Processing\"):\n",
        "    content = get_result(game)\n",
        "    results.append(content)\n",
        "\n",
        "# обработаем результаты игры\n",
        "for result in results:\n",
        "    if result[2][0] == result[2][1] == 0.0:\n",
        "        output[result[0]]['tie'] += 1\n",
        "        output[result[1]]['tie'] += 1\n",
        "    elif result[2][0] > result[2][1]:\n",
        "        output[result[0]]['win']  += 1\n",
        "        output[result[1]]['loss'] += 1\n",
        "    else:\n",
        "        output[result[0]]['loss'] += 1\n",
        "        output[result[1]]['win']  += 1"
      ],
      "metadata": {
        "colab": {
          "base_uri": "https://localhost:8080/"
        },
        "id": "AZkLg8FgieAl",
        "outputId": "91ea615c-303f-43c1-e98c-8efbb8364ebd"
      },
      "execution_count": 50,
      "outputs": [
        {
          "output_type": "stream",
          "name": "stderr",
          "text": [
            "Processing: 100%|██████████| 72/72 [02:59<00:00,  2.49s/it]\n"
          ]
        }
      ]
    },
    {
      "cell_type": "code",
      "source": [
        "# формируем таблицу с результатами и сортируем по кол-ву выигрышей\n",
        "pd.DataFrame.from_dict(output).T[['win','loss', 'tie']].sort_values('win', ascending=False)"
      ],
      "metadata": {
        "colab": {
          "base_uri": "https://localhost:8080/",
          "height": 332
        },
        "id": "utgqId8Mi-JQ",
        "outputId": "b0e158a2-a679-49db-e274-b13927956aed"
      },
      "execution_count": 51,
      "outputs": [
        {
          "output_type": "execute_result",
          "data": {
            "text/plain": [
              "                       win  loss  tie\n",
              "markov_agent.py         15     0    1\n",
              "reactionary.py           9     5    2\n",
              "statistical.py           8     4    4\n",
              "random_agent.py          4     3    9\n",
              "rock_agent.py            3     9    4\n",
              "future_reactionary.py    3     3   10\n",
              "paper_agent.py           2    10    4\n",
              "scissors_agent.py        2     9    5\n",
              "copy_agent.py            2     5    9"
            ],
            "text/html": [
              "\n",
              "  <div id=\"df-c2efdf0e-a260-4497-b2c5-254190f3fe23\" class=\"colab-df-container\">\n",
              "    <div>\n",
              "<style scoped>\n",
              "    .dataframe tbody tr th:only-of-type {\n",
              "        vertical-align: middle;\n",
              "    }\n",
              "\n",
              "    .dataframe tbody tr th {\n",
              "        vertical-align: top;\n",
              "    }\n",
              "\n",
              "    .dataframe thead th {\n",
              "        text-align: right;\n",
              "    }\n",
              "</style>\n",
              "<table border=\"1\" class=\"dataframe\">\n",
              "  <thead>\n",
              "    <tr style=\"text-align: right;\">\n",
              "      <th></th>\n",
              "      <th>win</th>\n",
              "      <th>loss</th>\n",
              "      <th>tie</th>\n",
              "    </tr>\n",
              "  </thead>\n",
              "  <tbody>\n",
              "    <tr>\n",
              "      <th>markov_agent.py</th>\n",
              "      <td>15</td>\n",
              "      <td>0</td>\n",
              "      <td>1</td>\n",
              "    </tr>\n",
              "    <tr>\n",
              "      <th>reactionary.py</th>\n",
              "      <td>9</td>\n",
              "      <td>5</td>\n",
              "      <td>2</td>\n",
              "    </tr>\n",
              "    <tr>\n",
              "      <th>statistical.py</th>\n",
              "      <td>8</td>\n",
              "      <td>4</td>\n",
              "      <td>4</td>\n",
              "    </tr>\n",
              "    <tr>\n",
              "      <th>random_agent.py</th>\n",
              "      <td>4</td>\n",
              "      <td>3</td>\n",
              "      <td>9</td>\n",
              "    </tr>\n",
              "    <tr>\n",
              "      <th>rock_agent.py</th>\n",
              "      <td>3</td>\n",
              "      <td>9</td>\n",
              "      <td>4</td>\n",
              "    </tr>\n",
              "    <tr>\n",
              "      <th>future_reactionary.py</th>\n",
              "      <td>3</td>\n",
              "      <td>3</td>\n",
              "      <td>10</td>\n",
              "    </tr>\n",
              "    <tr>\n",
              "      <th>paper_agent.py</th>\n",
              "      <td>2</td>\n",
              "      <td>10</td>\n",
              "      <td>4</td>\n",
              "    </tr>\n",
              "    <tr>\n",
              "      <th>scissors_agent.py</th>\n",
              "      <td>2</td>\n",
              "      <td>9</td>\n",
              "      <td>5</td>\n",
              "    </tr>\n",
              "    <tr>\n",
              "      <th>copy_agent.py</th>\n",
              "      <td>2</td>\n",
              "      <td>5</td>\n",
              "      <td>9</td>\n",
              "    </tr>\n",
              "  </tbody>\n",
              "</table>\n",
              "</div>\n",
              "    <div class=\"colab-df-buttons\">\n",
              "\n",
              "  <div class=\"colab-df-container\">\n",
              "    <button class=\"colab-df-convert\" onclick=\"convertToInteractive('df-c2efdf0e-a260-4497-b2c5-254190f3fe23')\"\n",
              "            title=\"Convert this dataframe to an interactive table.\"\n",
              "            style=\"display:none;\">\n",
              "\n",
              "  <svg xmlns=\"http://www.w3.org/2000/svg\" height=\"24px\" viewBox=\"0 -960 960 960\">\n",
              "    <path d=\"M120-120v-720h720v720H120Zm60-500h600v-160H180v160Zm220 220h160v-160H400v160Zm0 220h160v-160H400v160ZM180-400h160v-160H180v160Zm440 0h160v-160H620v160ZM180-180h160v-160H180v160Zm440 0h160v-160H620v160Z\"/>\n",
              "  </svg>\n",
              "    </button>\n",
              "\n",
              "  <style>\n",
              "    .colab-df-container {\n",
              "      display:flex;\n",
              "      gap: 12px;\n",
              "    }\n",
              "\n",
              "    .colab-df-convert {\n",
              "      background-color: #E8F0FE;\n",
              "      border: none;\n",
              "      border-radius: 50%;\n",
              "      cursor: pointer;\n",
              "      display: none;\n",
              "      fill: #1967D2;\n",
              "      height: 32px;\n",
              "      padding: 0 0 0 0;\n",
              "      width: 32px;\n",
              "    }\n",
              "\n",
              "    .colab-df-convert:hover {\n",
              "      background-color: #E2EBFA;\n",
              "      box-shadow: 0px 1px 2px rgba(60, 64, 67, 0.3), 0px 1px 3px 1px rgba(60, 64, 67, 0.15);\n",
              "      fill: #174EA6;\n",
              "    }\n",
              "\n",
              "    .colab-df-buttons div {\n",
              "      margin-bottom: 4px;\n",
              "    }\n",
              "\n",
              "    [theme=dark] .colab-df-convert {\n",
              "      background-color: #3B4455;\n",
              "      fill: #D2E3FC;\n",
              "    }\n",
              "\n",
              "    [theme=dark] .colab-df-convert:hover {\n",
              "      background-color: #434B5C;\n",
              "      box-shadow: 0px 1px 3px 1px rgba(0, 0, 0, 0.15);\n",
              "      filter: drop-shadow(0px 1px 2px rgba(0, 0, 0, 0.3));\n",
              "      fill: #FFFFFF;\n",
              "    }\n",
              "  </style>\n",
              "\n",
              "    <script>\n",
              "      const buttonEl =\n",
              "        document.querySelector('#df-c2efdf0e-a260-4497-b2c5-254190f3fe23 button.colab-df-convert');\n",
              "      buttonEl.style.display =\n",
              "        google.colab.kernel.accessAllowed ? 'block' : 'none';\n",
              "\n",
              "      async function convertToInteractive(key) {\n",
              "        const element = document.querySelector('#df-c2efdf0e-a260-4497-b2c5-254190f3fe23');\n",
              "        const dataTable =\n",
              "          await google.colab.kernel.invokeFunction('convertToInteractive',\n",
              "                                                    [key], {});\n",
              "        if (!dataTable) return;\n",
              "\n",
              "        const docLinkHtml = 'Like what you see? Visit the ' +\n",
              "          '<a target=\"_blank\" href=https://colab.research.google.com/notebooks/data_table.ipynb>data table notebook</a>'\n",
              "          + ' to learn more about interactive tables.';\n",
              "        element.innerHTML = '';\n",
              "        dataTable['output_type'] = 'display_data';\n",
              "        await google.colab.output.renderOutput(dataTable, element);\n",
              "        const docLink = document.createElement('div');\n",
              "        docLink.innerHTML = docLinkHtml;\n",
              "        element.appendChild(docLink);\n",
              "      }\n",
              "    </script>\n",
              "  </div>\n",
              "\n",
              "\n",
              "<div id=\"df-2e015c2d-7795-4cea-8eda-5fdfc724f654\">\n",
              "  <button class=\"colab-df-quickchart\" onclick=\"quickchart('df-2e015c2d-7795-4cea-8eda-5fdfc724f654')\"\n",
              "            title=\"Suggest charts\"\n",
              "            style=\"display:none;\">\n",
              "\n",
              "<svg xmlns=\"http://www.w3.org/2000/svg\" height=\"24px\"viewBox=\"0 0 24 24\"\n",
              "     width=\"24px\">\n",
              "    <g>\n",
              "        <path d=\"M19 3H5c-1.1 0-2 .9-2 2v14c0 1.1.9 2 2 2h14c1.1 0 2-.9 2-2V5c0-1.1-.9-2-2-2zM9 17H7v-7h2v7zm4 0h-2V7h2v10zm4 0h-2v-4h2v4z\"/>\n",
              "    </g>\n",
              "</svg>\n",
              "  </button>\n",
              "\n",
              "<style>\n",
              "  .colab-df-quickchart {\n",
              "      --bg-color: #E8F0FE;\n",
              "      --fill-color: #1967D2;\n",
              "      --hover-bg-color: #E2EBFA;\n",
              "      --hover-fill-color: #174EA6;\n",
              "      --disabled-fill-color: #AAA;\n",
              "      --disabled-bg-color: #DDD;\n",
              "  }\n",
              "\n",
              "  [theme=dark] .colab-df-quickchart {\n",
              "      --bg-color: #3B4455;\n",
              "      --fill-color: #D2E3FC;\n",
              "      --hover-bg-color: #434B5C;\n",
              "      --hover-fill-color: #FFFFFF;\n",
              "      --disabled-bg-color: #3B4455;\n",
              "      --disabled-fill-color: #666;\n",
              "  }\n",
              "\n",
              "  .colab-df-quickchart {\n",
              "    background-color: var(--bg-color);\n",
              "    border: none;\n",
              "    border-radius: 50%;\n",
              "    cursor: pointer;\n",
              "    display: none;\n",
              "    fill: var(--fill-color);\n",
              "    height: 32px;\n",
              "    padding: 0;\n",
              "    width: 32px;\n",
              "  }\n",
              "\n",
              "  .colab-df-quickchart:hover {\n",
              "    background-color: var(--hover-bg-color);\n",
              "    box-shadow: 0 1px 2px rgba(60, 64, 67, 0.3), 0 1px 3px 1px rgba(60, 64, 67, 0.15);\n",
              "    fill: var(--button-hover-fill-color);\n",
              "  }\n",
              "\n",
              "  .colab-df-quickchart-complete:disabled,\n",
              "  .colab-df-quickchart-complete:disabled:hover {\n",
              "    background-color: var(--disabled-bg-color);\n",
              "    fill: var(--disabled-fill-color);\n",
              "    box-shadow: none;\n",
              "  }\n",
              "\n",
              "  .colab-df-spinner {\n",
              "    border: 2px solid var(--fill-color);\n",
              "    border-color: transparent;\n",
              "    border-bottom-color: var(--fill-color);\n",
              "    animation:\n",
              "      spin 1s steps(1) infinite;\n",
              "  }\n",
              "\n",
              "  @keyframes spin {\n",
              "    0% {\n",
              "      border-color: transparent;\n",
              "      border-bottom-color: var(--fill-color);\n",
              "      border-left-color: var(--fill-color);\n",
              "    }\n",
              "    20% {\n",
              "      border-color: transparent;\n",
              "      border-left-color: var(--fill-color);\n",
              "      border-top-color: var(--fill-color);\n",
              "    }\n",
              "    30% {\n",
              "      border-color: transparent;\n",
              "      border-left-color: var(--fill-color);\n",
              "      border-top-color: var(--fill-color);\n",
              "      border-right-color: var(--fill-color);\n",
              "    }\n",
              "    40% {\n",
              "      border-color: transparent;\n",
              "      border-right-color: var(--fill-color);\n",
              "      border-top-color: var(--fill-color);\n",
              "    }\n",
              "    60% {\n",
              "      border-color: transparent;\n",
              "      border-right-color: var(--fill-color);\n",
              "    }\n",
              "    80% {\n",
              "      border-color: transparent;\n",
              "      border-right-color: var(--fill-color);\n",
              "      border-bottom-color: var(--fill-color);\n",
              "    }\n",
              "    90% {\n",
              "      border-color: transparent;\n",
              "      border-bottom-color: var(--fill-color);\n",
              "    }\n",
              "  }\n",
              "</style>\n",
              "\n",
              "  <script>\n",
              "    async function quickchart(key) {\n",
              "      const quickchartButtonEl =\n",
              "        document.querySelector('#' + key + ' button');\n",
              "      quickchartButtonEl.disabled = true;  // To prevent multiple clicks.\n",
              "      quickchartButtonEl.classList.add('colab-df-spinner');\n",
              "      try {\n",
              "        const charts = await google.colab.kernel.invokeFunction(\n",
              "            'suggestCharts', [key], {});\n",
              "      } catch (error) {\n",
              "        console.error('Error during call to suggestCharts:', error);\n",
              "      }\n",
              "      quickchartButtonEl.classList.remove('colab-df-spinner');\n",
              "      quickchartButtonEl.classList.add('colab-df-quickchart-complete');\n",
              "    }\n",
              "    (() => {\n",
              "      let quickchartButtonEl =\n",
              "        document.querySelector('#df-2e015c2d-7795-4cea-8eda-5fdfc724f654 button');\n",
              "      quickchartButtonEl.style.display =\n",
              "        google.colab.kernel.accessAllowed ? 'block' : 'none';\n",
              "    })();\n",
              "  </script>\n",
              "</div>\n",
              "    </div>\n",
              "  </div>\n"
            ],
            "application/vnd.google.colaboratory.intrinsic+json": {
              "type": "dataframe",
              "summary": "{\n  \"name\": \"pd\",\n  \"rows\": 9,\n  \"fields\": [\n    {\n      \"column\": \"win\",\n      \"properties\": {\n        \"dtype\": \"number\",\n        \"std\": 4,\n        \"min\": 2,\n        \"max\": 15,\n        \"num_unique_values\": 6,\n        \"samples\": [\n          15,\n          9,\n          2\n        ],\n        \"semantic_type\": \"\",\n        \"description\": \"\"\n      }\n    },\n    {\n      \"column\": \"loss\",\n      \"properties\": {\n        \"dtype\": \"number\",\n        \"std\": 3,\n        \"min\": 0,\n        \"max\": 10,\n        \"num_unique_values\": 6,\n        \"samples\": [\n          0,\n          5,\n          10\n        ],\n        \"semantic_type\": \"\",\n        \"description\": \"\"\n      }\n    },\n    {\n      \"column\": \"tie\",\n      \"properties\": {\n        \"dtype\": \"number\",\n        \"std\": 3,\n        \"min\": 1,\n        \"max\": 10,\n        \"num_unique_values\": 6,\n        \"samples\": [\n          1,\n          2,\n          5\n        ],\n        \"semantic_type\": \"\",\n        \"description\": \"\"\n      }\n    }\n  ]\n}"
            }
          },
          "metadata": {},
          "execution_count": 51
        }
      ]
    },
    {
      "cell_type": "markdown",
      "source": [
        "**Вывод:** из приведенной сверху таблицы, можно сделать вывод, что больше всего побед получил агент, работающий по концепции марковских цепей. При этом хочется отметить, что данный агент не разу не проиграл. Хуже всего себя повели константные(придерживающиеся одного выбора) агенты. Больше всего \"ничья\" получили агенты копирующий, рандомный и future_reactionary."
      ],
      "metadata": {
        "id": "Uzc7Yq9zzPEC"
      }
    }
  ]
}